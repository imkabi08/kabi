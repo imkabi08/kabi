{
 "cells": [
  {
   "cell_type": "markdown",
   "id": "ab36bb60-4484-4f2b-84cd-560ef95ccf61",
   "metadata": {},
   "source": [
    "# Data Science Tools and Ecosystem"
   ]
  },
  {
   "cell_type": "markdown",
   "id": "ed60facf-ddb7-4930-90e7-26a3324b3f50",
   "metadata": {},
   "source": [
    "In this Notebook, Data Science Tools and Ecosystem are summarized."
   ]
  },
  {
   "cell_type": "markdown",
   "id": "a718a250-9bff-422a-953c-a7a96da71350",
   "metadata": {},
   "source": [
    "Some of the popular languages that Data Scientists use are:"
   ]
  },
  {
   "cell_type": "markdown",
   "id": "07b81f15-a391-4fe4-91c7-21c8e9b61f67",
   "metadata": {},
   "source": [
    "1. Python\n",
    "2. R\n",
    "3. SQL\n",
    "4. JAVA"
   ]
  },
  {
   "cell_type": "markdown",
   "id": "992edb75-c206-4696-801d-e2f262d7aee6",
   "metadata": {},
   "source": [
    "Some of the commonly used libraries used by Data Scientists include:\n",
    "1. TensorFlow.\n",
    "2. NumPy.\n",
    "3. SciPy.\n",
    "4. Pandas.\n",
    "5. Matplotlib."
   ]
  },
  {
   "cell_type": "markdown",
   "id": "ebfb3e42-2f23-4b99-b0d4-5175d3ba79f2",
   "metadata": {},
   "source": [
    "## Data Science Tools"
   ]
  },
  {
   "cell_type": "markdown",
   "id": "3a52136c-2e00-4215-a13a-072446a4cd68",
   "metadata": {},
   "source": [
    "|Data Science Tools|\n",
    "|------------------|\n",
    "|SAS|\n",
    "|Apache Spark|\n",
    "|Big ML|"
   ]
  },
  {
   "cell_type": "markdown",
   "id": "b2f0344d-35be-4a44-8428-c2c95f58de92",
   "metadata": {},
   "source": [
    "### Below are a few examples of evaluating arithmetic expressions in Python"
   ]
  },
  {
   "cell_type": "markdown",
   "id": "0b162835-f4d8-4b3e-9065-8c0215c4d5e0",
   "metadata": {},
   "source": [
    "##### This a simple arithmetic expression to mutiply then add integers"
   ]
  },
  {
   "cell_type": "code",
   "execution_count": 2,
   "id": "b17ce182-13e5-4844-8239-dee4d8531f6f",
   "metadata": {},
   "outputs": [
    {
     "data": {
      "text/plain": [
       "17"
      ]
     },
     "execution_count": 2,
     "metadata": {},
     "output_type": "execute_result"
    }
   ],
   "source": [
    "(3*4)+5"
   ]
  },
  {
   "cell_type": "markdown",
   "id": "edd7b046-291d-42c6-a2e6-7924a8ce462a",
   "metadata": {},
   "source": [
    "#### This will convert 200 minutes to hours by diving by 60"
   ]
  },
  {
   "cell_type": "code",
   "execution_count": 8,
   "id": "aba944a9-4ee1-4258-ba22-04cf14eef512",
   "metadata": {},
   "outputs": [
    {
     "name": "stdout",
     "output_type": "stream",
     "text": [
      "3.3333333333333335\n"
     ]
    }
   ],
   "source": [
    "times=200\n",
    "hours=times/60\n",
    "print(hours)"
   ]
  },
  {
   "cell_type": "markdown",
   "id": "c3d7f94c-bd3d-4029-8889-95e534c5cc2f",
   "metadata": {},
   "source": [
    "***Objectives:***"
   ]
  },
  {
   "cell_type": "markdown",
   "id": "ec2f74af-3492-48c6-a985-d91c9fe36e08",
   "metadata": {},
   "source": [
    "###### Popular languages for Data Science"
   ]
  },
  {
   "cell_type": "markdown",
   "id": "4b4ceb74-6b28-48b4-ba1a-8fbf1acf571b",
   "metadata": {},
   "source": [
    "- Python\n",
    "- R\n",
    "- SQL\n",
    "- JAVA"
   ]
  },
  {
   "cell_type": "markdown",
   "id": "d134111f-1e21-45fe-9ce8-605dca4c2c4e",
   "metadata": {},
   "source": [
    "## Author\n",
    "KABIRUL HASSAN"
   ]
  },
  {
   "cell_type": "code",
   "execution_count": null,
   "id": "2bfb0524-bc92-473b-8096-9c720fc4cc6d",
   "metadata": {},
   "outputs": [],
   "source": []
  }
 ],
 "metadata": {
  "kernelspec": {
   "display_name": "Python 3 (ipykernel)",
   "language": "python",
   "name": "python3"
  },
  "language_info": {
   "codemirror_mode": {
    "name": "ipython",
    "version": 3
   },
   "file_extension": ".py",
   "mimetype": "text/x-python",
   "name": "python",
   "nbconvert_exporter": "python",
   "pygments_lexer": "ipython3",
   "version": "3.12.7"
  }
 },
 "nbformat": 4,
 "nbformat_minor": 5
}
